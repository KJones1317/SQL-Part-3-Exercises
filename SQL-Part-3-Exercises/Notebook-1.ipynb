{
    "metadata": {
        "kernelspec": {
            "name": "SQL",
            "display_name": "SQL",
            "language": "sql"
        },
        "language_info": {
            "name": "sql",
            "version": ""
        },
        "extensions": {
            "azuredatastudio": {
                "version": 1,
                "views": []
            }
        }
    },
    "nbformat_minor": 2,
    "nbformat": 4,
    "cells": [
        {
            "cell_type": "markdown",
            "source": [
                "# SQL Part 3 Exercises Joins\n",
                "\n",
                "This notebook works with the BooksDB dataset.  \n",
                "\n",
                "**Questions 1-4** focus on how joins work in a more general sense.  If you are not sure how to best answer the questions, try manipulating the queries by changing the order of joins, the length of the TOP, or how they are ordered.  \n",
                "\n",
                "> <span style=\"background-color: rgba(127, 127, 127, 0.1);\"><i>Note</i>: If some of the queries are not returning quickly, you can try closing and restarting azure data studio after a few minutes.</span>\n",
                "\n",
                "In **questions 5-8**, you will be asked to join tables to find results about titles, tags, and the books users want to read.\n",
                "\n",
                "As you go through the questions, you will see 'Minimum Desired Output'.  This will provide you with the bare minimum columns needed to answer the questions.  When you write the queries, add as many additional columns as you need to best find your answers."
            ],
            "metadata": {
                "azdata_cell_guid": "db9534a9-c8a7-4c09-8180-bcba0690bb02"
            },
            "attachments": {}
        },
        {
            "cell_type": "markdown",
            "source": [
                "## **QUESTION 1:**  Exploring a LEFT JOIN using the **books** and **to\\_read** tables\n",
                "\n",
                "The code block below has been commented out. To answer this question, you will need to uncomment it by removing the **/\\*** (line 1) and **\\*/** (line 16).\n",
                "\n",
                "**Part A:** Look at Query 1, which table is the 'Left' table and which is the 'Right'?\n",
                "\n",
                "> Your Answer: Left table is 'books', right table is 'to\\_read'\n",
                "\n",
                "**Part B:** Using table 2, answer the following questions: \n",
                "\n",
                "- When we added a  '**WHERE tr.user\\_id IS NOT NULL'** clause (line 14), how did the table change?  Why?\n",
                "\n",
                "> Your Answer: It excludes rows where there is a Null value in to\\_read.user\\_id"
            ],
            "metadata": {
                "azdata_cell_guid": "660be568-9a70-40ff-a2fa-a78e31e87b6f"
            },
            "attachments": {}
        },
        {
            "cell_type": "code",
            "source": [
                "\n",
                "-- Query 1: LEFT JOIN \n",
                "SELECT TOP 50 b.title, b.average_rating, b.books_count,tr.user_id, tr.book_id\n",
                "FROM BooksDB.dbo.books AS b\n",
                "LEFT JOIN BooksDB.dbo.to_read AS tr\n",
                "ON b.best_book_id = tr.book_id\n",
                "ORDER BY b.average_rating;\n",
                "\n",
                "-- Query 2: LEFT JOIN USING 'IS NOT NULL'\n",
                "SELECT TOP 50 b.title, b.average_rating, b.books_count,tr.user_id, tr.book_id\n",
                "FROM BooksDB.dbo.books AS b\n",
                "LEFT JOIN BooksDB.dbo.to_read AS tr\n",
                "ON b.best_book_id = tr.book_id\n",
                "WHERE tr.user_id IS NOT NULL\n",
                "ORDER BY b.average_rating;\n",
                ""
            ],
            "metadata": {
                "azdata_cell_guid": "25dcd34c-5e5d-4393-9da0-a4c0effb6455",
                "tags": [],
                "language": "sql"
            },
            "outputs": [
                {
                    "output_type": "display_data",
                    "data": {
                        "text/html": "(50 rows affected)"
                    },
                    "metadata": {}
                },
                {
                    "output_type": "display_data",
                    "data": {
                        "text/html": "(50 rows affected)"
                    },
                    "metadata": {}
                },
                {
                    "output_type": "display_data",
                    "data": {
                        "text/html": "Total execution time: 00:00:06.881"
                    },
                    "metadata": {}
                },
                {
                    "output_type": "execute_result",
                    "execution_count": 2,
                    "data": {
                        "application/vnd.dataresource+json": {
                            "schema": {
                                "fields": [
                                    {
                                        "name": "title"
                                    },
                                    {
                                        "name": "average_rating"
                                    },
                                    {
                                        "name": "books_count"
                                    },
                                    {
                                        "name": "user_id"
                                    },
                                    {
                                        "name": "book_id"
                                    }
                                ]
                            },
                            "data": [
                                {
                                    "0": "One Night at the Call Center",
                                    "1": "2.47",
                                    "2": "25",
                                    "3": "NULL",
                                    "4": "NULL"
                                },
                                {
                                    "0": "The Almost Moon",
                                    "1": "2.67",
                                    "2": "63",
                                    "3": "NULL",
                                    "4": "NULL"
                                },
                                {
                                    "0": "The Finkler Question",
                                    "1": "2.76",
                                    "2": "45",
                                    "3": "NULL",
                                    "4": "NULL"
                                },
                                {
                                    "0": "Four Blondes",
                                    "1": "2.8",
                                    "2": "57",
                                    "3": "449",
                                    "4": "6613"
                                },
                                {
                                    "0": "Four Blondes",
                                    "1": "2.8",
                                    "2": "57",
                                    "3": "1378",
                                    "4": "6613"
                                },
                                {
                                    "0": "Four Blondes",
                                    "1": "2.8",
                                    "2": "57",
                                    "3": "6465",
                                    "4": "6613"
                                },
                                {
                                    "0": "Four Blondes",
                                    "1": "2.8",
                                    "2": "57",
                                    "3": "6700",
                                    "4": "6613"
                                },
                                {
                                    "0": "Four Blondes",
                                    "1": "2.8",
                                    "2": "57",
                                    "3": "7830",
                                    "4": "6613"
                                },
                                {
                                    "0": "Four Blondes",
                                    "1": "2.8",
                                    "2": "57",
                                    "3": "10085",
                                    "4": "6613"
                                },
                                {
                                    "0": "Four Blondes",
                                    "1": "2.8",
                                    "2": "57",
                                    "3": "16298",
                                    "4": "6613"
                                },
                                {
                                    "0": "Four Blondes",
                                    "1": "2.8",
                                    "2": "57",
                                    "3": "16845",
                                    "4": "6613"
                                },
                                {
                                    "0": "Four Blondes",
                                    "1": "2.8",
                                    "2": "57",
                                    "3": "17470",
                                    "4": "6613"
                                },
                                {
                                    "0": "Four Blondes",
                                    "1": "2.8",
                                    "2": "57",
                                    "3": "19763",
                                    "4": "6613"
                                },
                                {
                                    "0": "Four Blondes",
                                    "1": "2.8",
                                    "2": "57",
                                    "3": "21938",
                                    "4": "6613"
                                },
                                {
                                    "0": "Four Blondes",
                                    "1": "2.8",
                                    "2": "57",
                                    "3": "22289",
                                    "4": "6613"
                                },
                                {
                                    "0": "Four Blondes",
                                    "1": "2.8",
                                    "2": "57",
                                    "3": "23758",
                                    "4": "6613"
                                },
                                {
                                    "0": "Four Blondes",
                                    "1": "2.8",
                                    "2": "57",
                                    "3": "27874",
                                    "4": "6613"
                                },
                                {
                                    "0": "Four Blondes",
                                    "1": "2.8",
                                    "2": "57",
                                    "3": "28690",
                                    "4": "6613"
                                },
                                {
                                    "0": "Four Blondes",
                                    "1": "2.8",
                                    "2": "57",
                                    "3": "29023",
                                    "4": "6613"
                                },
                                {
                                    "0": "Four Blondes",
                                    "1": "2.8",
                                    "2": "57",
                                    "3": "29315",
                                    "4": "6613"
                                },
                                {
                                    "0": "Four Blondes",
                                    "1": "2.8",
                                    "2": "57",
                                    "3": "30245",
                                    "4": "6613"
                                },
                                {
                                    "0": "Four Blondes",
                                    "1": "2.8",
                                    "2": "57",
                                    "3": "36128",
                                    "4": "6613"
                                },
                                {
                                    "0": "Four Blondes",
                                    "1": "2.8",
                                    "2": "57",
                                    "3": "36554",
                                    "4": "6613"
                                },
                                {
                                    "0": "Four Blondes",
                                    "1": "2.8",
                                    "2": "57",
                                    "3": "38159",
                                    "4": "6613"
                                },
                                {
                                    "0": "Four Blondes",
                                    "1": "2.8",
                                    "2": "57",
                                    "3": "38800",
                                    "4": "6613"
                                },
                                {
                                    "0": "Four Blondes",
                                    "1": "2.8",
                                    "2": "57",
                                    "3": "40361",
                                    "4": "6613"
                                },
                                {
                                    "0": "Four Blondes",
                                    "1": "2.8",
                                    "2": "57",
                                    "3": "40529",
                                    "4": "6613"
                                },
                                {
                                    "0": "Four Blondes",
                                    "1": "2.8",
                                    "2": "57",
                                    "3": "41485",
                                    "4": "6613"
                                },
                                {
                                    "0": "Four Blondes",
                                    "1": "2.8",
                                    "2": "57",
                                    "3": "42706",
                                    "4": "6613"
                                },
                                {
                                    "0": "Four Blondes",
                                    "1": "2.8",
                                    "2": "57",
                                    "3": "45206",
                                    "4": "6613"
                                },
                                {
                                    "0": "Four Blondes",
                                    "1": "2.8",
                                    "2": "57",
                                    "3": "45689",
                                    "4": "6613"
                                },
                                {
                                    "0": "Four Blondes",
                                    "1": "2.8",
                                    "2": "57",
                                    "3": "49499",
                                    "4": "6613"
                                },
                                {
                                    "0": "Four Blondes",
                                    "1": "2.8",
                                    "2": "57",
                                    "3": "51105",
                                    "4": "6613"
                                },
                                {
                                    "0": "Four Blondes",
                                    "1": "2.8",
                                    "2": "57",
                                    "3": "51671",
                                    "4": "6613"
                                },
                                {
                                    "0": "Four Blondes",
                                    "1": "2.8",
                                    "2": "57",
                                    "3": "52109",
                                    "4": "6613"
                                },
                                {
                                    "0": "Lost",
                                    "1": "2.8",
                                    "2": "18",
                                    "3": "NULL",
                                    "4": "NULL"
                                },
                                {
                                    "0": "Tell-All",
                                    "1": "2.84",
                                    "2": "37",
                                    "3": "NULL",
                                    "4": "NULL"
                                },
                                {
                                    "0": "Revenge Wears Prada: The Devil Returns (The Devil Wears Prada, #2)",
                                    "1": "2.84",
                                    "2": "59",
                                    "3": "NULL",
                                    "4": "NULL"
                                },
                                {
                                    "0": "Among the Ten Thousand Things",
                                    "1": "2.84",
                                    "2": "19",
                                    "3": "NULL",
                                    "4": "NULL"
                                },
                                {
                                    "0": "The Emperor's Children",
                                    "1": "2.93",
                                    "2": "45",
                                    "3": "7860",
                                    "4": "3648"
                                },
                                {
                                    "0": "The Emperor's Children",
                                    "1": "2.93",
                                    "2": "45",
                                    "3": "11320",
                                    "4": "3648"
                                },
                                {
                                    "0": "The Emperor's Children",
                                    "1": "2.93",
                                    "2": "45",
                                    "3": "12686",
                                    "4": "3648"
                                },
                                {
                                    "0": "The Emperor's Children",
                                    "1": "2.93",
                                    "2": "45",
                                    "3": "12729",
                                    "4": "3648"
                                },
                                {
                                    "0": "The Emperor's Children",
                                    "1": "2.93",
                                    "2": "45",
                                    "3": "12891",
                                    "4": "3648"
                                },
                                {
                                    "0": "The Emperor's Children",
                                    "1": "2.93",
                                    "2": "45",
                                    "3": "16933",
                                    "4": "3648"
                                },
                                {
                                    "0": "The Emperor's Children",
                                    "1": "2.93",
                                    "2": "45",
                                    "3": "17093",
                                    "4": "3648"
                                },
                                {
                                    "0": "The Emperor's Children",
                                    "1": "2.93",
                                    "2": "45",
                                    "3": "24036",
                                    "4": "3648"
                                },
                                {
                                    "0": "The Emperor's Children",
                                    "1": "2.93",
                                    "2": "45",
                                    "3": "35122",
                                    "4": "3648"
                                },
                                {
                                    "0": "The Emperor's Children",
                                    "1": "2.93",
                                    "2": "45",
                                    "3": "36022",
                                    "4": "3648"
                                },
                                {
                                    "0": "The Emperor's Children",
                                    "1": "2.93",
                                    "2": "45",
                                    "3": "36952",
                                    "4": "3648"
                                }
                            ]
                        },
                        "text/html": "<table><tr><th>title</th><th>average_rating</th><th>books_count</th><th>user_id</th><th>book_id</th></tr><tr><td>One Night at the Call Center</td><td>2.47</td><td>25</td><td>NULL</td><td>NULL</td></tr><tr><td>The Almost Moon</td><td>2.67</td><td>63</td><td>NULL</td><td>NULL</td></tr><tr><td>The Finkler Question</td><td>2.76</td><td>45</td><td>NULL</td><td>NULL</td></tr><tr><td>Four Blondes</td><td>2.8</td><td>57</td><td>449</td><td>6613</td></tr><tr><td>Four Blondes</td><td>2.8</td><td>57</td><td>1378</td><td>6613</td></tr><tr><td>Four Blondes</td><td>2.8</td><td>57</td><td>6465</td><td>6613</td></tr><tr><td>Four Blondes</td><td>2.8</td><td>57</td><td>6700</td><td>6613</td></tr><tr><td>Four Blondes</td><td>2.8</td><td>57</td><td>7830</td><td>6613</td></tr><tr><td>Four Blondes</td><td>2.8</td><td>57</td><td>10085</td><td>6613</td></tr><tr><td>Four Blondes</td><td>2.8</td><td>57</td><td>16298</td><td>6613</td></tr><tr><td>Four Blondes</td><td>2.8</td><td>57</td><td>16845</td><td>6613</td></tr><tr><td>Four Blondes</td><td>2.8</td><td>57</td><td>17470</td><td>6613</td></tr><tr><td>Four Blondes</td><td>2.8</td><td>57</td><td>19763</td><td>6613</td></tr><tr><td>Four Blondes</td><td>2.8</td><td>57</td><td>21938</td><td>6613</td></tr><tr><td>Four Blondes</td><td>2.8</td><td>57</td><td>22289</td><td>6613</td></tr><tr><td>Four Blondes</td><td>2.8</td><td>57</td><td>23758</td><td>6613</td></tr><tr><td>Four Blondes</td><td>2.8</td><td>57</td><td>27874</td><td>6613</td></tr><tr><td>Four Blondes</td><td>2.8</td><td>57</td><td>28690</td><td>6613</td></tr><tr><td>Four Blondes</td><td>2.8</td><td>57</td><td>29023</td><td>6613</td></tr><tr><td>Four Blondes</td><td>2.8</td><td>57</td><td>29315</td><td>6613</td></tr><tr><td>Four Blondes</td><td>2.8</td><td>57</td><td>30245</td><td>6613</td></tr><tr><td>Four Blondes</td><td>2.8</td><td>57</td><td>36128</td><td>6613</td></tr><tr><td>Four Blondes</td><td>2.8</td><td>57</td><td>36554</td><td>6613</td></tr><tr><td>Four Blondes</td><td>2.8</td><td>57</td><td>38159</td><td>6613</td></tr><tr><td>Four Blondes</td><td>2.8</td><td>57</td><td>38800</td><td>6613</td></tr><tr><td>Four Blondes</td><td>2.8</td><td>57</td><td>40361</td><td>6613</td></tr><tr><td>Four Blondes</td><td>2.8</td><td>57</td><td>40529</td><td>6613</td></tr><tr><td>Four Blondes</td><td>2.8</td><td>57</td><td>41485</td><td>6613</td></tr><tr><td>Four Blondes</td><td>2.8</td><td>57</td><td>42706</td><td>6613</td></tr><tr><td>Four Blondes</td><td>2.8</td><td>57</td><td>45206</td><td>6613</td></tr><tr><td>Four Blondes</td><td>2.8</td><td>57</td><td>45689</td><td>6613</td></tr><tr><td>Four Blondes</td><td>2.8</td><td>57</td><td>49499</td><td>6613</td></tr><tr><td>Four Blondes</td><td>2.8</td><td>57</td><td>51105</td><td>6613</td></tr><tr><td>Four Blondes</td><td>2.8</td><td>57</td><td>51671</td><td>6613</td></tr><tr><td>Four Blondes</td><td>2.8</td><td>57</td><td>52109</td><td>6613</td></tr><tr><td>Lost</td><td>2.8</td><td>18</td><td>NULL</td><td>NULL</td></tr><tr><td>Tell-All</td><td>2.84</td><td>37</td><td>NULL</td><td>NULL</td></tr><tr><td>Revenge Wears Prada: The Devil Returns (The Devil Wears Prada, #2)</td><td>2.84</td><td>59</td><td>NULL</td><td>NULL</td></tr><tr><td>Among the Ten Thousand Things</td><td>2.84</td><td>19</td><td>NULL</td><td>NULL</td></tr><tr><td>The Emperor's Children</td><td>2.93</td><td>45</td><td>7860</td><td>3648</td></tr><tr><td>The Emperor's Children</td><td>2.93</td><td>45</td><td>11320</td><td>3648</td></tr><tr><td>The Emperor's Children</td><td>2.93</td><td>45</td><td>12686</td><td>3648</td></tr><tr><td>The Emperor's Children</td><td>2.93</td><td>45</td><td>12729</td><td>3648</td></tr><tr><td>The Emperor's Children</td><td>2.93</td><td>45</td><td>12891</td><td>3648</td></tr><tr><td>The Emperor's Children</td><td>2.93</td><td>45</td><td>16933</td><td>3648</td></tr><tr><td>The Emperor's Children</td><td>2.93</td><td>45</td><td>17093</td><td>3648</td></tr><tr><td>The Emperor's Children</td><td>2.93</td><td>45</td><td>24036</td><td>3648</td></tr><tr><td>The Emperor's Children</td><td>2.93</td><td>45</td><td>35122</td><td>3648</td></tr><tr><td>The Emperor's Children</td><td>2.93</td><td>45</td><td>36022</td><td>3648</td></tr><tr><td>The Emperor's Children</td><td>2.93</td><td>45</td><td>36952</td><td>3648</td></tr></table>"
                    },
                    "metadata": {}
                },
                {
                    "output_type": "execute_result",
                    "execution_count": 2,
                    "data": {
                        "application/vnd.dataresource+json": {
                            "schema": {
                                "fields": [
                                    {
                                        "name": "title"
                                    },
                                    {
                                        "name": "average_rating"
                                    },
                                    {
                                        "name": "books_count"
                                    },
                                    {
                                        "name": "user_id"
                                    },
                                    {
                                        "name": "book_id"
                                    }
                                ]
                            },
                            "data": [
                                {
                                    "0": "Four Blondes",
                                    "1": "2.8",
                                    "2": "57",
                                    "3": "449",
                                    "4": "6613"
                                },
                                {
                                    "0": "Four Blondes",
                                    "1": "2.8",
                                    "2": "57",
                                    "3": "1378",
                                    "4": "6613"
                                },
                                {
                                    "0": "Four Blondes",
                                    "1": "2.8",
                                    "2": "57",
                                    "3": "6465",
                                    "4": "6613"
                                },
                                {
                                    "0": "Four Blondes",
                                    "1": "2.8",
                                    "2": "57",
                                    "3": "6700",
                                    "4": "6613"
                                },
                                {
                                    "0": "Four Blondes",
                                    "1": "2.8",
                                    "2": "57",
                                    "3": "7830",
                                    "4": "6613"
                                },
                                {
                                    "0": "Four Blondes",
                                    "1": "2.8",
                                    "2": "57",
                                    "3": "10085",
                                    "4": "6613"
                                },
                                {
                                    "0": "Four Blondes",
                                    "1": "2.8",
                                    "2": "57",
                                    "3": "16298",
                                    "4": "6613"
                                },
                                {
                                    "0": "Four Blondes",
                                    "1": "2.8",
                                    "2": "57",
                                    "3": "16845",
                                    "4": "6613"
                                },
                                {
                                    "0": "Four Blondes",
                                    "1": "2.8",
                                    "2": "57",
                                    "3": "17470",
                                    "4": "6613"
                                },
                                {
                                    "0": "Four Blondes",
                                    "1": "2.8",
                                    "2": "57",
                                    "3": "19763",
                                    "4": "6613"
                                },
                                {
                                    "0": "Four Blondes",
                                    "1": "2.8",
                                    "2": "57",
                                    "3": "21938",
                                    "4": "6613"
                                },
                                {
                                    "0": "Four Blondes",
                                    "1": "2.8",
                                    "2": "57",
                                    "3": "22289",
                                    "4": "6613"
                                },
                                {
                                    "0": "Four Blondes",
                                    "1": "2.8",
                                    "2": "57",
                                    "3": "23758",
                                    "4": "6613"
                                },
                                {
                                    "0": "Four Blondes",
                                    "1": "2.8",
                                    "2": "57",
                                    "3": "27874",
                                    "4": "6613"
                                },
                                {
                                    "0": "Four Blondes",
                                    "1": "2.8",
                                    "2": "57",
                                    "3": "28690",
                                    "4": "6613"
                                },
                                {
                                    "0": "Four Blondes",
                                    "1": "2.8",
                                    "2": "57",
                                    "3": "29023",
                                    "4": "6613"
                                },
                                {
                                    "0": "Four Blondes",
                                    "1": "2.8",
                                    "2": "57",
                                    "3": "29315",
                                    "4": "6613"
                                },
                                {
                                    "0": "Four Blondes",
                                    "1": "2.8",
                                    "2": "57",
                                    "3": "30245",
                                    "4": "6613"
                                },
                                {
                                    "0": "Four Blondes",
                                    "1": "2.8",
                                    "2": "57",
                                    "3": "36128",
                                    "4": "6613"
                                },
                                {
                                    "0": "Four Blondes",
                                    "1": "2.8",
                                    "2": "57",
                                    "3": "36554",
                                    "4": "6613"
                                },
                                {
                                    "0": "Four Blondes",
                                    "1": "2.8",
                                    "2": "57",
                                    "3": "38159",
                                    "4": "6613"
                                },
                                {
                                    "0": "Four Blondes",
                                    "1": "2.8",
                                    "2": "57",
                                    "3": "38800",
                                    "4": "6613"
                                },
                                {
                                    "0": "Four Blondes",
                                    "1": "2.8",
                                    "2": "57",
                                    "3": "40361",
                                    "4": "6613"
                                },
                                {
                                    "0": "Four Blondes",
                                    "1": "2.8",
                                    "2": "57",
                                    "3": "40529",
                                    "4": "6613"
                                },
                                {
                                    "0": "Four Blondes",
                                    "1": "2.8",
                                    "2": "57",
                                    "3": "41485",
                                    "4": "6613"
                                },
                                {
                                    "0": "Four Blondes",
                                    "1": "2.8",
                                    "2": "57",
                                    "3": "42706",
                                    "4": "6613"
                                },
                                {
                                    "0": "Four Blondes",
                                    "1": "2.8",
                                    "2": "57",
                                    "3": "45206",
                                    "4": "6613"
                                },
                                {
                                    "0": "Four Blondes",
                                    "1": "2.8",
                                    "2": "57",
                                    "3": "45689",
                                    "4": "6613"
                                },
                                {
                                    "0": "Four Blondes",
                                    "1": "2.8",
                                    "2": "57",
                                    "3": "49499",
                                    "4": "6613"
                                },
                                {
                                    "0": "Four Blondes",
                                    "1": "2.8",
                                    "2": "57",
                                    "3": "51105",
                                    "4": "6613"
                                },
                                {
                                    "0": "Four Blondes",
                                    "1": "2.8",
                                    "2": "57",
                                    "3": "51671",
                                    "4": "6613"
                                },
                                {
                                    "0": "Four Blondes",
                                    "1": "2.8",
                                    "2": "57",
                                    "3": "52109",
                                    "4": "6613"
                                },
                                {
                                    "0": "The Emperor's Children",
                                    "1": "2.93",
                                    "2": "45",
                                    "3": "7860",
                                    "4": "3648"
                                },
                                {
                                    "0": "The Emperor's Children",
                                    "1": "2.93",
                                    "2": "45",
                                    "3": "11320",
                                    "4": "3648"
                                },
                                {
                                    "0": "The Emperor's Children",
                                    "1": "2.93",
                                    "2": "45",
                                    "3": "12686",
                                    "4": "3648"
                                },
                                {
                                    "0": "The Emperor's Children",
                                    "1": "2.93",
                                    "2": "45",
                                    "3": "12729",
                                    "4": "3648"
                                },
                                {
                                    "0": "The Emperor's Children",
                                    "1": "2.93",
                                    "2": "45",
                                    "3": "12891",
                                    "4": "3648"
                                },
                                {
                                    "0": "The Emperor's Children",
                                    "1": "2.93",
                                    "2": "45",
                                    "3": "16933",
                                    "4": "3648"
                                },
                                {
                                    "0": "The Emperor's Children",
                                    "1": "2.93",
                                    "2": "45",
                                    "3": "17093",
                                    "4": "3648"
                                },
                                {
                                    "0": "The Emperor's Children",
                                    "1": "2.93",
                                    "2": "45",
                                    "3": "24036",
                                    "4": "3648"
                                },
                                {
                                    "0": "The Emperor's Children",
                                    "1": "2.93",
                                    "2": "45",
                                    "3": "35122",
                                    "4": "3648"
                                },
                                {
                                    "0": "The Emperor's Children",
                                    "1": "2.93",
                                    "2": "45",
                                    "3": "36022",
                                    "4": "3648"
                                },
                                {
                                    "0": "The Emperor's Children",
                                    "1": "2.93",
                                    "2": "45",
                                    "3": "36952",
                                    "4": "3648"
                                },
                                {
                                    "0": "The Emperor's Children",
                                    "1": "2.93",
                                    "2": "45",
                                    "3": "38430",
                                    "4": "3648"
                                },
                                {
                                    "0": "The Emperor's Children",
                                    "1": "2.93",
                                    "2": "45",
                                    "3": "39414",
                                    "4": "3648"
                                },
                                {
                                    "0": "The Emperor's Children",
                                    "1": "2.93",
                                    "2": "45",
                                    "3": "45261",
                                    "4": "3648"
                                },
                                {
                                    "0": "The Emperor's Children",
                                    "1": "2.93",
                                    "2": "45",
                                    "3": "45497",
                                    "4": "3648"
                                },
                                {
                                    "0": "The Emperor's Children",
                                    "1": "2.93",
                                    "2": "45",
                                    "3": "45747",
                                    "4": "3648"
                                },
                                {
                                    "0": "The Emperor's Children",
                                    "1": "2.93",
                                    "2": "45",
                                    "3": "48502",
                                    "4": "3648"
                                },
                                {
                                    "0": "The Emperor's Children",
                                    "1": "2.93",
                                    "2": "45",
                                    "3": "49233",
                                    "4": "3648"
                                }
                            ]
                        },
                        "text/html": "<table><tr><th>title</th><th>average_rating</th><th>books_count</th><th>user_id</th><th>book_id</th></tr><tr><td>Four Blondes</td><td>2.8</td><td>57</td><td>449</td><td>6613</td></tr><tr><td>Four Blondes</td><td>2.8</td><td>57</td><td>1378</td><td>6613</td></tr><tr><td>Four Blondes</td><td>2.8</td><td>57</td><td>6465</td><td>6613</td></tr><tr><td>Four Blondes</td><td>2.8</td><td>57</td><td>6700</td><td>6613</td></tr><tr><td>Four Blondes</td><td>2.8</td><td>57</td><td>7830</td><td>6613</td></tr><tr><td>Four Blondes</td><td>2.8</td><td>57</td><td>10085</td><td>6613</td></tr><tr><td>Four Blondes</td><td>2.8</td><td>57</td><td>16298</td><td>6613</td></tr><tr><td>Four Blondes</td><td>2.8</td><td>57</td><td>16845</td><td>6613</td></tr><tr><td>Four Blondes</td><td>2.8</td><td>57</td><td>17470</td><td>6613</td></tr><tr><td>Four Blondes</td><td>2.8</td><td>57</td><td>19763</td><td>6613</td></tr><tr><td>Four Blondes</td><td>2.8</td><td>57</td><td>21938</td><td>6613</td></tr><tr><td>Four Blondes</td><td>2.8</td><td>57</td><td>22289</td><td>6613</td></tr><tr><td>Four Blondes</td><td>2.8</td><td>57</td><td>23758</td><td>6613</td></tr><tr><td>Four Blondes</td><td>2.8</td><td>57</td><td>27874</td><td>6613</td></tr><tr><td>Four Blondes</td><td>2.8</td><td>57</td><td>28690</td><td>6613</td></tr><tr><td>Four Blondes</td><td>2.8</td><td>57</td><td>29023</td><td>6613</td></tr><tr><td>Four Blondes</td><td>2.8</td><td>57</td><td>29315</td><td>6613</td></tr><tr><td>Four Blondes</td><td>2.8</td><td>57</td><td>30245</td><td>6613</td></tr><tr><td>Four Blondes</td><td>2.8</td><td>57</td><td>36128</td><td>6613</td></tr><tr><td>Four Blondes</td><td>2.8</td><td>57</td><td>36554</td><td>6613</td></tr><tr><td>Four Blondes</td><td>2.8</td><td>57</td><td>38159</td><td>6613</td></tr><tr><td>Four Blondes</td><td>2.8</td><td>57</td><td>38800</td><td>6613</td></tr><tr><td>Four Blondes</td><td>2.8</td><td>57</td><td>40361</td><td>6613</td></tr><tr><td>Four Blondes</td><td>2.8</td><td>57</td><td>40529</td><td>6613</td></tr><tr><td>Four Blondes</td><td>2.8</td><td>57</td><td>41485</td><td>6613</td></tr><tr><td>Four Blondes</td><td>2.8</td><td>57</td><td>42706</td><td>6613</td></tr><tr><td>Four Blondes</td><td>2.8</td><td>57</td><td>45206</td><td>6613</td></tr><tr><td>Four Blondes</td><td>2.8</td><td>57</td><td>45689</td><td>6613</td></tr><tr><td>Four Blondes</td><td>2.8</td><td>57</td><td>49499</td><td>6613</td></tr><tr><td>Four Blondes</td><td>2.8</td><td>57</td><td>51105</td><td>6613</td></tr><tr><td>Four Blondes</td><td>2.8</td><td>57</td><td>51671</td><td>6613</td></tr><tr><td>Four Blondes</td><td>2.8</td><td>57</td><td>52109</td><td>6613</td></tr><tr><td>The Emperor's Children</td><td>2.93</td><td>45</td><td>7860</td><td>3648</td></tr><tr><td>The Emperor's Children</td><td>2.93</td><td>45</td><td>11320</td><td>3648</td></tr><tr><td>The Emperor's Children</td><td>2.93</td><td>45</td><td>12686</td><td>3648</td></tr><tr><td>The Emperor's Children</td><td>2.93</td><td>45</td><td>12729</td><td>3648</td></tr><tr><td>The Emperor's Children</td><td>2.93</td><td>45</td><td>12891</td><td>3648</td></tr><tr><td>The Emperor's Children</td><td>2.93</td><td>45</td><td>16933</td><td>3648</td></tr><tr><td>The Emperor's Children</td><td>2.93</td><td>45</td><td>17093</td><td>3648</td></tr><tr><td>The Emperor's Children</td><td>2.93</td><td>45</td><td>24036</td><td>3648</td></tr><tr><td>The Emperor's Children</td><td>2.93</td><td>45</td><td>35122</td><td>3648</td></tr><tr><td>The Emperor's Children</td><td>2.93</td><td>45</td><td>36022</td><td>3648</td></tr><tr><td>The Emperor's Children</td><td>2.93</td><td>45</td><td>36952</td><td>3648</td></tr><tr><td>The Emperor's Children</td><td>2.93</td><td>45</td><td>38430</td><td>3648</td></tr><tr><td>The Emperor's Children</td><td>2.93</td><td>45</td><td>39414</td><td>3648</td></tr><tr><td>The Emperor's Children</td><td>2.93</td><td>45</td><td>45261</td><td>3648</td></tr><tr><td>The Emperor's Children</td><td>2.93</td><td>45</td><td>45497</td><td>3648</td></tr><tr><td>The Emperor's Children</td><td>2.93</td><td>45</td><td>45747</td><td>3648</td></tr><tr><td>The Emperor's Children</td><td>2.93</td><td>45</td><td>48502</td><td>3648</td></tr><tr><td>The Emperor's Children</td><td>2.93</td><td>45</td><td>49233</td><td>3648</td></tr></table>"
                    },
                    "metadata": {}
                }
            ],
            "execution_count": 2
        },
        {
            "cell_type": "markdown",
            "source": [
                "## **QUESTION 2:** Exploring **RIGHT** joins with the **books** and **to\\_read** tables\n",
                "\n",
                "You will need to uncomment the Query to answer the question.\n",
                "\n",
                "**Part A:** Looking at the query, which table is the 'Left' and which is the 'Right'?\n",
                "\n",
                "> Your Answer: Left table is books, right table is to\\_read\n",
                "\n",
                "**Part B:** How do the RIGHT-joined tables differ from the LEFT-joined tables in Question 1?  \n",
                "\n",
                "> Your Answer: The RIGHT join table filled in NULL values from the 'books' table as opposed to filling in the NULL values in the 'to\\_read' LEFT joined table in question 1"
            ],
            "metadata": {
                "azdata_cell_guid": "c1e417d9-89d2-4a7d-ab46-b43c8bddc54f"
            },
            "attachments": {}
        },
        {
            "cell_type": "code",
            "source": [
                "-- Query 1: RIGHT JOIN\n",
                "SELECT TOP 30 b.title, b.average_rating, b.books_count, tr.user_id, tr.book_id\n",
                "FROM BooksDB.dbo.books AS b\n",
                "RIGHT JOIN BooksDB.dbo.to_read AS tr\n",
                "ON b.best_book_id = tr.book_id;"
            ],
            "metadata": {
                "azdata_cell_guid": "8cf020b8-2a76-46a6-acff-97eb1acc7fed",
                "tags": [],
                "language": "sql"
            },
            "outputs": [
                {
                    "output_type": "display_data",
                    "data": {
                        "text/html": "(30 rows affected)"
                    },
                    "metadata": {}
                },
                {
                    "output_type": "display_data",
                    "data": {
                        "text/html": "Total execution time: 00:00:00.130"
                    },
                    "metadata": {}
                },
                {
                    "output_type": "execute_result",
                    "execution_count": 3,
                    "data": {
                        "application/vnd.dataresource+json": {
                            "schema": {
                                "fields": [
                                    {
                                        "name": "title"
                                    },
                                    {
                                        "name": "average_rating"
                                    },
                                    {
                                        "name": "books_count"
                                    },
                                    {
                                        "name": "user_id"
                                    },
                                    {
                                        "name": "book_id"
                                    }
                                ]
                            },
                            "data": [
                                {
                                    "0": "Children of Dune (Dune Chronicles #3)",
                                    "1": "3.9",
                                    "2": "116",
                                    "3": "1",
                                    "4": "112"
                                },
                                {
                                    "0": "NULL",
                                    "1": "NULL",
                                    "2": "NULL",
                                    "3": "1",
                                    "4": "235"
                                },
                                {
                                    "0": "NULL",
                                    "1": "NULL",
                                    "2": "NULL",
                                    "3": "1",
                                    "4": "533"
                                },
                                {
                                    "0": "NULL",
                                    "1": "NULL",
                                    "2": "NULL",
                                    "3": "1",
                                    "4": "1198"
                                },
                                {
                                    "0": "NULL",
                                    "1": "NULL",
                                    "2": "NULL",
                                    "3": "1",
                                    "4": "1874"
                                },
                                {
                                    "0": "NULL",
                                    "1": "NULL",
                                    "2": "NULL",
                                    "3": "1",
                                    "4": "2058"
                                },
                                {
                                    "0": "NULL",
                                    "1": "NULL",
                                    "2": "NULL",
                                    "3": "1",
                                    "4": "3334"
                                },
                                {
                                    "0": "NULL",
                                    "1": "NULL",
                                    "2": "NULL",
                                    "3": "2",
                                    "4": "4"
                                },
                                {
                                    "0": "NULL",
                                    "1": "NULL",
                                    "2": "NULL",
                                    "3": "2",
                                    "4": "11"
                                },
                                {
                                    "0": "The Ultimate Hitchhiker's Guide to the Galaxy",
                                    "1": "4.37",
                                    "2": "32",
                                    "3": "2",
                                    "4": "13"
                                },
                                {
                                    "0": "NULL",
                                    "1": "NULL",
                                    "2": "NULL",
                                    "3": "2",
                                    "4": "16"
                                },
                                {
                                    "0": "NULL",
                                    "1": "NULL",
                                    "2": "NULL",
                                    "3": "2",
                                    "4": "92"
                                },
                                {
                                    "0": "Dune Messiah (Dune Chronicles #2)",
                                    "1": "3.86",
                                    "2": "140",
                                    "3": "2",
                                    "4": "106"
                                },
                                {
                                    "0": "NULL",
                                    "1": "NULL",
                                    "2": "NULL",
                                    "3": "2",
                                    "4": "113"
                                },
                                {
                                    "0": "NULL",
                                    "1": "NULL",
                                    "2": "NULL",
                                    "3": "2",
                                    "4": "233"
                                },
                                {
                                    "0": "NULL",
                                    "1": "NULL",
                                    "2": "NULL",
                                    "3": "2",
                                    "4": "247"
                                },
                                {
                                    "0": "NULL",
                                    "1": "NULL",
                                    "2": "NULL",
                                    "3": "2",
                                    "4": "380"
                                },
                                {
                                    "0": "NULL",
                                    "1": "NULL",
                                    "2": "NULL",
                                    "3": "2",
                                    "4": "408"
                                },
                                {
                                    "0": "NULL",
                                    "1": "NULL",
                                    "2": "NULL",
                                    "3": "2",
                                    "4": "439"
                                },
                                {
                                    "0": "NULL",
                                    "1": "NULL",
                                    "2": "NULL",
                                    "3": "2",
                                    "4": "479"
                                },
                                {
                                    "0": "NULL",
                                    "1": "NULL",
                                    "2": "NULL",
                                    "3": "2",
                                    "4": "516"
                                },
                                {
                                    "0": "NULL",
                                    "1": "NULL",
                                    "2": "NULL",
                                    "3": "2",
                                    "4": "619"
                                },
                                {
                                    "0": "NULL",
                                    "1": "NULL",
                                    "2": "NULL",
                                    "3": "2",
                                    "4": "1069"
                                },
                                {
                                    "0": "The Iliad",
                                    "1": "3.83",
                                    "2": "1726",
                                    "3": "2",
                                    "4": "1371"
                                },
                                {
                                    "0": "NULL",
                                    "1": "NULL",
                                    "2": "NULL",
                                    "3": "2",
                                    "4": "1384"
                                },
                                {
                                    "0": "NULL",
                                    "1": "NULL",
                                    "2": "NULL",
                                    "3": "2",
                                    "4": "1597"
                                },
                                {
                                    "0": "NULL",
                                    "1": "NULL",
                                    "2": "NULL",
                                    "3": "2",
                                    "4": "1926"
                                },
                                {
                                    "0": "NULL",
                                    "1": "NULL",
                                    "2": "NULL",
                                    "3": "2",
                                    "4": "1967"
                                },
                                {
                                    "0": "NULL",
                                    "1": "NULL",
                                    "2": "NULL",
                                    "3": "2",
                                    "4": "1969"
                                },
                                {
                                    "0": "NULL",
                                    "1": "NULL",
                                    "2": "NULL",
                                    "3": "2",
                                    "4": "2220"
                                }
                            ]
                        },
                        "text/html": "<table><tr><th>title</th><th>average_rating</th><th>books_count</th><th>user_id</th><th>book_id</th></tr><tr><td>Children of Dune (Dune Chronicles #3)</td><td>3.9</td><td>116</td><td>1</td><td>112</td></tr><tr><td>NULL</td><td>NULL</td><td>NULL</td><td>1</td><td>235</td></tr><tr><td>NULL</td><td>NULL</td><td>NULL</td><td>1</td><td>533</td></tr><tr><td>NULL</td><td>NULL</td><td>NULL</td><td>1</td><td>1198</td></tr><tr><td>NULL</td><td>NULL</td><td>NULL</td><td>1</td><td>1874</td></tr><tr><td>NULL</td><td>NULL</td><td>NULL</td><td>1</td><td>2058</td></tr><tr><td>NULL</td><td>NULL</td><td>NULL</td><td>1</td><td>3334</td></tr><tr><td>NULL</td><td>NULL</td><td>NULL</td><td>2</td><td>4</td></tr><tr><td>NULL</td><td>NULL</td><td>NULL</td><td>2</td><td>11</td></tr><tr><td>The Ultimate Hitchhiker's Guide to the Galaxy</td><td>4.37</td><td>32</td><td>2</td><td>13</td></tr><tr><td>NULL</td><td>NULL</td><td>NULL</td><td>2</td><td>16</td></tr><tr><td>NULL</td><td>NULL</td><td>NULL</td><td>2</td><td>92</td></tr><tr><td>Dune Messiah (Dune Chronicles #2)</td><td>3.86</td><td>140</td><td>2</td><td>106</td></tr><tr><td>NULL</td><td>NULL</td><td>NULL</td><td>2</td><td>113</td></tr><tr><td>NULL</td><td>NULL</td><td>NULL</td><td>2</td><td>233</td></tr><tr><td>NULL</td><td>NULL</td><td>NULL</td><td>2</td><td>247</td></tr><tr><td>NULL</td><td>NULL</td><td>NULL</td><td>2</td><td>380</td></tr><tr><td>NULL</td><td>NULL</td><td>NULL</td><td>2</td><td>408</td></tr><tr><td>NULL</td><td>NULL</td><td>NULL</td><td>2</td><td>439</td></tr><tr><td>NULL</td><td>NULL</td><td>NULL</td><td>2</td><td>479</td></tr><tr><td>NULL</td><td>NULL</td><td>NULL</td><td>2</td><td>516</td></tr><tr><td>NULL</td><td>NULL</td><td>NULL</td><td>2</td><td>619</td></tr><tr><td>NULL</td><td>NULL</td><td>NULL</td><td>2</td><td>1069</td></tr><tr><td>The Iliad</td><td>3.83</td><td>1726</td><td>2</td><td>1371</td></tr><tr><td>NULL</td><td>NULL</td><td>NULL</td><td>2</td><td>1384</td></tr><tr><td>NULL</td><td>NULL</td><td>NULL</td><td>2</td><td>1597</td></tr><tr><td>NULL</td><td>NULL</td><td>NULL</td><td>2</td><td>1926</td></tr><tr><td>NULL</td><td>NULL</td><td>NULL</td><td>2</td><td>1967</td></tr><tr><td>NULL</td><td>NULL</td><td>NULL</td><td>2</td><td>1969</td></tr><tr><td>NULL</td><td>NULL</td><td>NULL</td><td>2</td><td>2220</td></tr></table>"
                    },
                    "metadata": {}
                }
            ],
            "execution_count": 3
        },
        {
            "cell_type": "markdown",
            "source": [
                "## **QUESTION 3:** Exploring FULL JOINS with the **books** and **to\\_read** tables\n",
                "\n",
                "You will need to uncomment the Query to answer the question.\n",
                "\n",
                "**Part A:**  Look at the table and explore how it was populated.  Try manipulating the query to better understand how this table works.  Try adding a WHERE clause, or ORDER BY a column on the **books** table.  Based on your exploration, can you think of when you might want a FULL join rather than a LEFT, RIGHT, or INNER?\n",
                "\n",
                "> Your Answer:"
            ],
            "metadata": {
                "azdata_cell_guid": "8f6b8f22-3e5a-4b87-a2f2-07279f1deb94"
            },
            "attachments": {}
        },
        {
            "cell_type": "code",
            "source": [
                "-- FULL JOIN\n",
                "SELECT TOP 30 b.title, b.average_rating, b.books_count,tr.user_id, tr.book_id\n",
                "FROM BooksDB.dbo.books AS b\n",
                "FULL JOIN BooksDB.dbo.to_read AS tr\n",
                "ON b.book_id = tr.book_id\n",
                "WHERE average_rating IS NOT NULL\n",
                "ORDER BY books_count ASC;"
            ],
            "metadata": {
                "azdata_cell_guid": "7c2a3dff-ef55-4222-aef0-7c0ab4f942eb",
                "tags": [],
                "language": "sql"
            },
            "outputs": [
                {
                    "output_type": "display_data",
                    "data": {
                        "text/html": "(30 rows affected)"
                    },
                    "metadata": {}
                },
                {
                    "output_type": "display_data",
                    "data": {
                        "text/html": "Total execution time: 00:00:07.335"
                    },
                    "metadata": {}
                },
                {
                    "output_type": "execute_result",
                    "metadata": {},
                    "execution_count": 3,
                    "data": {
                        "application/vnd.dataresource+json": {
                            "schema": {
                                "fields": [
                                    {
                                        "name": "title"
                                    },
                                    {
                                        "name": "average_rating"
                                    },
                                    {
                                        "name": "books_count"
                                    },
                                    {
                                        "name": "user_id"
                                    },
                                    {
                                        "name": "book_id"
                                    }
                                ]
                            },
                            "data": [
                                {
                                    "0": "Wreckage",
                                    "1": "3.66",
                                    "2": "1",
                                    "3": "NULL",
                                    "4": "NULL"
                                },
                                {
                                    "0": "High Noon",
                                    "1": "3.94",
                                    "2": "1",
                                    "3": "NULL",
                                    "4": "NULL"
                                },
                                {
                                    "0": "Henry & Ramona",
                                    "1": "4.14",
                                    "2": "1",
                                    "3": "NULL",
                                    "4": "NULL"
                                },
                                {
                                    "0": "Psycho",
                                    "1": "4.09",
                                    "2": "1",
                                    "3": "NULL",
                                    "4": "NULL"
                                },
                                {
                                    "0": "Wicked: The Grimmerie",
                                    "1": "4.17",
                                    "2": "1",
                                    "3": "NULL",
                                    "4": "NULL"
                                },
                                {
                                    "0": "H is for Hawk",
                                    "1": "3.74",
                                    "2": "1",
                                    "3": "NULL",
                                    "4": "NULL"
                                },
                                {
                                    "0": "At Bertram's Hotel (Miss Marple, #11)",
                                    "1": "3.7",
                                    "2": "1",
                                    "3": "NULL",
                                    "4": "NULL"
                                },
                                {
                                    "0": "Pretty Little Liars (TV Series)",
                                    "1": "4.46",
                                    "2": "1",
                                    "3": "NULL",
                                    "4": "NULL"
                                },
                                {
                                    "0": "Marked / Betrayed / Chosen / Untamed / Hunted (House of Night #1-5)",
                                    "1": "4.43",
                                    "2": "1",
                                    "3": "NULL",
                                    "4": "NULL"
                                },
                                {
                                    "0": "شاب كشك في رحلة البحث عن الجادون",
                                    "1": "3.66",
                                    "2": "1",
                                    "3": "NULL",
                                    "4": "NULL"
                                },
                                {
                                    "0": "BookRags Summary:  A Storm of Swords",
                                    "1": "4.59",
                                    "2": "1",
                                    "3": "NULL",
                                    "4": "NULL"
                                },
                                {
                                    "0": "You've Been Warned",
                                    "1": "3.52",
                                    "2": "1",
                                    "3": "NULL",
                                    "4": "NULL"
                                },
                                {
                                    "0": "Sleeping Beauty (Disney Princess, 5)",
                                    "1": "4.32",
                                    "2": "1",
                                    "3": "NULL",
                                    "4": "NULL"
                                },
                                {
                                    "0": "Come Away with Me (With Me in Seattle, #1)",
                                    "1": "3.94",
                                    "2": "1",
                                    "3": "NULL",
                                    "4": "NULL"
                                },
                                {
                                    "0": "Cold Fire / Hideaway / The Key to Midnight",
                                    "1": "4.16",
                                    "2": "1",
                                    "3": "NULL",
                                    "4": "NULL"
                                },
                                {
                                    "0": "Harry Potter: A Pop-Up Book: Based on the Film Phenomenon",
                                    "1": "4.55",
                                    "2": "1",
                                    "3": "NULL",
                                    "4": "NULL"
                                },
                                {
                                    "0": "As You Wish: Inconceivable Tales from the Making of The Princess Bride",
                                    "1": "4.08",
                                    "2": "1",
                                    "3": "NULL",
                                    "4": "NULL"
                                },
                                {
                                    "0": "The Rise and Fall of the Third Reich: A History of Nazi Germany",
                                    "1": "4.15",
                                    "2": "1",
                                    "3": "NULL",
                                    "4": "NULL"
                                },
                                {
                                    "0": "Andy Goldsworthy: A Collaboration with Nature",
                                    "1": "3.95",
                                    "2": "1",
                                    "3": "NULL",
                                    "4": "NULL"
                                },
                                {
                                    "0": "The Tale of Peter Rabbit",
                                    "1": "4.17",
                                    "2": "1",
                                    "3": "NULL",
                                    "4": "NULL"
                                },
                                {
                                    "0": "شكلها باظت",
                                    "1": "3.52",
                                    "2": "1",
                                    "3": "NULL",
                                    "4": "NULL"
                                },
                                {
                                    "0": "Snow",
                                    "1": "3.55",
                                    "2": "1",
                                    "3": "NULL",
                                    "4": "NULL"
                                },
                                {
                                    "0": "Ralph S. Mouse by Beverly Cleary: Teacher Guide (Novel Units)",
                                    "1": "3.95",
                                    "2": "1",
                                    "3": "NULL",
                                    "4": "NULL"
                                },
                                {
                                    "0": "I Am Pilgrim (Pilgrim, #1)",
                                    "1": "4.23",
                                    "2": "1",
                                    "3": "NULL",
                                    "4": "NULL"
                                },
                                {
                                    "0": "The Hedge Knight (The Hedge Knight Graphic Novels, #1)",
                                    "1": "4.11",
                                    "2": "1",
                                    "3": "NULL",
                                    "4": "NULL"
                                },
                                {
                                    "0": "The Creative License: Giving Yourself Permission to Be The Artist You Truly Are",
                                    "1": "3.93",
                                    "2": "1",
                                    "3": "NULL",
                                    "4": "NULL"
                                },
                                {
                                    "0": "Midnight Sun (Twilight, #1.5)",
                                    "1": "4.03",
                                    "2": "1",
                                    "3": "NULL",
                                    "4": "NULL"
                                },
                                {
                                    "0": "FRUiTS",
                                    "1": "3.94",
                                    "2": "1",
                                    "3": "NULL",
                                    "4": "NULL"
                                },
                                {
                                    "0": "Vampire Academy Box Set (Vampire Academy, #1-4)",
                                    "1": "4.57",
                                    "2": "1",
                                    "3": "NULL",
                                    "4": "NULL"
                                },
                                {
                                    "0": "Feverborn (Fever, #8)",
                                    "1": "4.18",
                                    "2": "1",
                                    "3": "NULL",
                                    "4": "NULL"
                                }
                            ]
                        },
                        "text/html": [
                            "<table>",
                            "<tr><th>title</th><th>average_rating</th><th>books_count</th><th>user_id</th><th>book_id</th></tr>",
                            "<tr><td>Wreckage</td><td>3.66</td><td>1</td><td>NULL</td><td>NULL</td></tr>",
                            "<tr><td>High Noon</td><td>3.94</td><td>1</td><td>NULL</td><td>NULL</td></tr>",
                            "<tr><td>Henry &amp; Ramona</td><td>4.14</td><td>1</td><td>NULL</td><td>NULL</td></tr>",
                            "<tr><td>Psycho</td><td>4.09</td><td>1</td><td>NULL</td><td>NULL</td></tr>",
                            "<tr><td>Wicked: The Grimmerie</td><td>4.17</td><td>1</td><td>NULL</td><td>NULL</td></tr>",
                            "<tr><td>H is for Hawk</td><td>3.74</td><td>1</td><td>NULL</td><td>NULL</td></tr>",
                            "<tr><td>At Bertram's Hotel (Miss Marple, #11)</td><td>3.7</td><td>1</td><td>NULL</td><td>NULL</td></tr>",
                            "<tr><td>Pretty Little Liars (TV Series)</td><td>4.46</td><td>1</td><td>NULL</td><td>NULL</td></tr>",
                            "<tr><td>Marked / Betrayed / Chosen / Untamed / Hunted (House of Night #1-5)</td><td>4.43</td><td>1</td><td>NULL</td><td>NULL</td></tr>",
                            "<tr><td>شاب كشك في رحلة البحث عن الجادون</td><td>3.66</td><td>1</td><td>NULL</td><td>NULL</td></tr>",
                            "<tr><td>BookRags Summary:  A Storm of Swords</td><td>4.59</td><td>1</td><td>NULL</td><td>NULL</td></tr>",
                            "<tr><td>You've Been Warned</td><td>3.52</td><td>1</td><td>NULL</td><td>NULL</td></tr>",
                            "<tr><td>Sleeping Beauty (Disney Princess, 5)</td><td>4.32</td><td>1</td><td>NULL</td><td>NULL</td></tr>",
                            "<tr><td>Come Away with Me (With Me in Seattle, #1)</td><td>3.94</td><td>1</td><td>NULL</td><td>NULL</td></tr>",
                            "<tr><td>Cold Fire / Hideaway / The Key to Midnight</td><td>4.16</td><td>1</td><td>NULL</td><td>NULL</td></tr>",
                            "<tr><td>Harry Potter: A Pop-Up Book: Based on the Film Phenomenon</td><td>4.55</td><td>1</td><td>NULL</td><td>NULL</td></tr>",
                            "<tr><td>As You Wish: Inconceivable Tales from the Making of The Princess Bride</td><td>4.08</td><td>1</td><td>NULL</td><td>NULL</td></tr>",
                            "<tr><td>The Rise and Fall of the Third Reich: A History of Nazi Germany</td><td>4.15</td><td>1</td><td>NULL</td><td>NULL</td></tr>",
                            "<tr><td>Andy Goldsworthy: A Collaboration with Nature</td><td>3.95</td><td>1</td><td>NULL</td><td>NULL</td></tr>",
                            "<tr><td>The Tale of Peter Rabbit</td><td>4.17</td><td>1</td><td>NULL</td><td>NULL</td></tr>",
                            "<tr><td>شكلها باظت</td><td>3.52</td><td>1</td><td>NULL</td><td>NULL</td></tr>",
                            "<tr><td>Snow</td><td>3.55</td><td>1</td><td>NULL</td><td>NULL</td></tr>",
                            "<tr><td>Ralph S. Mouse by Beverly Cleary: Teacher Guide (Novel Units)</td><td>3.95</td><td>1</td><td>NULL</td><td>NULL</td></tr>",
                            "<tr><td>I Am Pilgrim (Pilgrim, #1)</td><td>4.23</td><td>1</td><td>NULL</td><td>NULL</td></tr>",
                            "<tr><td>The Hedge Knight (The Hedge Knight Graphic Novels, #1)</td><td>4.11</td><td>1</td><td>NULL</td><td>NULL</td></tr>",
                            "<tr><td>The Creative License: Giving Yourself Permission to Be The Artist You Truly Are</td><td>3.93</td><td>1</td><td>NULL</td><td>NULL</td></tr>",
                            "<tr><td>Midnight Sun (Twilight, #1.5)</td><td>4.03</td><td>1</td><td>NULL</td><td>NULL</td></tr>",
                            "<tr><td>FRUiTS</td><td>3.94</td><td>1</td><td>NULL</td><td>NULL</td></tr>",
                            "<tr><td>Vampire Academy Box Set (Vampire Academy, #1-4)</td><td>4.57</td><td>1</td><td>NULL</td><td>NULL</td></tr>",
                            "<tr><td>Feverborn (Fever, #8)</td><td>4.18</td><td>1</td><td>NULL</td><td>NULL</td></tr>",
                            "</table>"
                        ]
                    }
                }
            ],
            "execution_count": 3
        },
        {
            "cell_type": "markdown",
            "source": [
                "## **QUESTION 4:** Exploring INNER Joins with the **books** and **to\\_read** tables\n",
                "\n",
                "You will need to uncomment the Query to answer the question.\n",
                "\n",
                "**Part A:**  What does an inner join do?\n",
                "\n",
                "> <span style=\"background-color: rgba(127, 127, 127, 0.1); font-family: -apple-system, BlinkMacSystemFont, sans-serif;\">Your Answer:</span>\n",
                "> \n",
                "> Joins the tables and only returns records that match with no null values.\n",
                "\n",
                "<span style=\"background-color: rgba(127, 127, 127, 0.1); font-family: -apple-system, BlinkMacSystemFont, sans-serif;\"><b>Part B:</b>&nbsp;Currently this table has an <b>'IS NOT NULL'</b> in the <b>WHERE</b> clause.&nbsp; Is this necessary for this table?&nbsp; Why or Why not?&nbsp;</span>  \n",
                "\n",
                "> Your Answer: No, because an INNER JOIN doesn't return NULL values\n",
                "\n",
                "**Part C:**  When using SQL, you are usually returning much larger tables so every line of code will add to the compilation and return time.  Rewrite this inner join query so that it contains no redundant code.   \n",
                "\n",
                "> Your Answer:  Updated the query below."
            ],
            "metadata": {
                "azdata_cell_guid": "4dab11ce-7995-4444-92dd-4cb2c0bc02c8"
            },
            "attachments": {}
        },
        {
            "cell_type": "code",
            "source": [
                "-- INNER JOIN\n",
                "SELECT TOP 15 b.title, b.average_rating, b.books_count,tr.user_id, tr.book_id\n",
                "FROM BooksDB.dbo.books AS b\n",
                "INNER JOIN BooksDB.dbo.to_read AS tr\n",
                "ON b.book_id = tr.book_id\n",
                "ORDER BY tr.book_id;"
            ],
            "metadata": {
                "azdata_cell_guid": "66d430ab-18aa-4a29-a32d-0585445e417c",
                "tags": [],
                "language": "sql"
            },
            "outputs": [
                {
                    "output_type": "display_data",
                    "data": {
                        "text/html": "(15 rows affected)"
                    },
                    "metadata": {}
                },
                {
                    "output_type": "display_data",
                    "data": {
                        "text/html": "Total execution time: 00:00:00.087"
                    },
                    "metadata": {}
                },
                {
                    "output_type": "execute_result",
                    "metadata": {},
                    "execution_count": 6,
                    "data": {
                        "application/vnd.dataresource+json": {
                            "schema": {
                                "fields": [
                                    {
                                        "name": "title"
                                    },
                                    {
                                        "name": "average_rating"
                                    },
                                    {
                                        "name": "books_count"
                                    },
                                    {
                                        "name": "user_id"
                                    },
                                    {
                                        "name": "book_id"
                                    }
                                ]
                            },
                            "data": [
                                {
                                    "0": "Harry Potter and the Half-Blood Prince (Harry Potter, #6)",
                                    "1": "4.54",
                                    "2": "275",
                                    "3": "12",
                                    "4": "1"
                                },
                                {
                                    "0": "Harry Potter and the Half-Blood Prince (Harry Potter, #6)",
                                    "1": "4.54",
                                    "2": "275",
                                    "3": "192",
                                    "4": "1"
                                },
                                {
                                    "0": "Harry Potter and the Half-Blood Prince (Harry Potter, #6)",
                                    "1": "4.54",
                                    "2": "275",
                                    "3": "202",
                                    "4": "1"
                                },
                                {
                                    "0": "Harry Potter and the Half-Blood Prince (Harry Potter, #6)",
                                    "1": "4.54",
                                    "2": "275",
                                    "3": "244",
                                    "4": "1"
                                },
                                {
                                    "0": "Harry Potter and the Half-Blood Prince (Harry Potter, #6)",
                                    "1": "4.54",
                                    "2": "275",
                                    "3": "253",
                                    "4": "1"
                                },
                                {
                                    "0": "Harry Potter and the Half-Blood Prince (Harry Potter, #6)",
                                    "1": "4.54",
                                    "2": "275",
                                    "3": "350",
                                    "4": "1"
                                },
                                {
                                    "0": "Harry Potter and the Half-Blood Prince (Harry Potter, #6)",
                                    "1": "4.54",
                                    "2": "275",
                                    "3": "478",
                                    "4": "1"
                                },
                                {
                                    "0": "Harry Potter and the Half-Blood Prince (Harry Potter, #6)",
                                    "1": "4.54",
                                    "2": "275",
                                    "3": "511",
                                    "4": "1"
                                },
                                {
                                    "0": "Harry Potter and the Half-Blood Prince (Harry Potter, #6)",
                                    "1": "4.54",
                                    "2": "275",
                                    "3": "525",
                                    "4": "1"
                                },
                                {
                                    "0": "Harry Potter and the Half-Blood Prince (Harry Potter, #6)",
                                    "1": "4.54",
                                    "2": "275",
                                    "3": "527",
                                    "4": "1"
                                },
                                {
                                    "0": "Harry Potter and the Half-Blood Prince (Harry Potter, #6)",
                                    "1": "4.54",
                                    "2": "275",
                                    "3": "552",
                                    "4": "1"
                                },
                                {
                                    "0": "Harry Potter and the Half-Blood Prince (Harry Potter, #6)",
                                    "1": "4.54",
                                    "2": "275",
                                    "3": "644",
                                    "4": "1"
                                },
                                {
                                    "0": "Harry Potter and the Half-Blood Prince (Harry Potter, #6)",
                                    "1": "4.54",
                                    "2": "275",
                                    "3": "754",
                                    "4": "1"
                                },
                                {
                                    "0": "Harry Potter and the Half-Blood Prince (Harry Potter, #6)",
                                    "1": "4.54",
                                    "2": "275",
                                    "3": "826",
                                    "4": "1"
                                },
                                {
                                    "0": "Harry Potter and the Half-Blood Prince (Harry Potter, #6)",
                                    "1": "4.54",
                                    "2": "275",
                                    "3": "1043",
                                    "4": "1"
                                }
                            ]
                        },
                        "text/html": [
                            "<table>",
                            "<tr><th>title</th><th>average_rating</th><th>books_count</th><th>user_id</th><th>book_id</th></tr>",
                            "<tr><td>Harry Potter and the Half-Blood Prince (Harry Potter, #6)</td><td>4.54</td><td>275</td><td>12</td><td>1</td></tr>",
                            "<tr><td>Harry Potter and the Half-Blood Prince (Harry Potter, #6)</td><td>4.54</td><td>275</td><td>192</td><td>1</td></tr>",
                            "<tr><td>Harry Potter and the Half-Blood Prince (Harry Potter, #6)</td><td>4.54</td><td>275</td><td>202</td><td>1</td></tr>",
                            "<tr><td>Harry Potter and the Half-Blood Prince (Harry Potter, #6)</td><td>4.54</td><td>275</td><td>244</td><td>1</td></tr>",
                            "<tr><td>Harry Potter and the Half-Blood Prince (Harry Potter, #6)</td><td>4.54</td><td>275</td><td>253</td><td>1</td></tr>",
                            "<tr><td>Harry Potter and the Half-Blood Prince (Harry Potter, #6)</td><td>4.54</td><td>275</td><td>350</td><td>1</td></tr>",
                            "<tr><td>Harry Potter and the Half-Blood Prince (Harry Potter, #6)</td><td>4.54</td><td>275</td><td>478</td><td>1</td></tr>",
                            "<tr><td>Harry Potter and the Half-Blood Prince (Harry Potter, #6)</td><td>4.54</td><td>275</td><td>511</td><td>1</td></tr>",
                            "<tr><td>Harry Potter and the Half-Blood Prince (Harry Potter, #6)</td><td>4.54</td><td>275</td><td>525</td><td>1</td></tr>",
                            "<tr><td>Harry Potter and the Half-Blood Prince (Harry Potter, #6)</td><td>4.54</td><td>275</td><td>527</td><td>1</td></tr>",
                            "<tr><td>Harry Potter and the Half-Blood Prince (Harry Potter, #6)</td><td>4.54</td><td>275</td><td>552</td><td>1</td></tr>",
                            "<tr><td>Harry Potter and the Half-Blood Prince (Harry Potter, #6)</td><td>4.54</td><td>275</td><td>644</td><td>1</td></tr>",
                            "<tr><td>Harry Potter and the Half-Blood Prince (Harry Potter, #6)</td><td>4.54</td><td>275</td><td>754</td><td>1</td></tr>",
                            "<tr><td>Harry Potter and the Half-Blood Prince (Harry Potter, #6)</td><td>4.54</td><td>275</td><td>826</td><td>1</td></tr>",
                            "<tr><td>Harry Potter and the Half-Blood Prince (Harry Potter, #6)</td><td>4.54</td><td>275</td><td>1043</td><td>1</td></tr>",
                            "</table>"
                        ]
                    }
                }
            ],
            "execution_count": 6
        },
        {
            "cell_type": "markdown",
            "source": [
                "## **QUESTION 5:**  Using joins to find the most tagged book and the most popular tag\n",
                "\n",
                "We will be writing 3 queries to find both the most tagged book and that book's most popular tag.\n",
                "\n",
                "**Part A:**  What is the most tagged book?\n",
                "\n",
                "> <span style=\"background-color: rgba(127, 127, 127, 0.1); font-family: -apple-system, BlinkMacSystemFont, sans-serif;\">Start by joining the </span> **books** <span style=\"background-color: rgba(127, 127, 127, 0.1); font-family: -apple-system, BlinkMacSystemFont, sans-serif;\">and </span> **book\\_tags**   <span style=\"background-color: rgba(127, 127, 127, 0.1); font-family: -apple-system, BlinkMacSystemFont, sans-serif;\">&nbsp;tables ON the books.best_book_id and book_tags.goodreads_book_id.&nbsp;&nbsp;<br></span>    <span style=\"background-color: rgba(127, 127, 127, 0.1); font-family: -apple-system, BlinkMacSystemFont, sans-serif;\">We want the <i>most popular</i> book, so think about ordering the table in a way that will display both the book title and the number of times a book tag has been used.</span>\n",
                "> \n",
                "> _MInimum Desired output:_  The title of the most tagged book, and the number of times the book has been tagged.\n",
                "> \n",
                "> **Title:**  **Harry Potter and the Sorcerer's Stone (Harry Potter, #1)**\n",
                "\n",
                "**Part B:** How many different tags have been used for the most tagged book? **100 Tags**\n",
                "\n",
                "> <span style=\"font-family: -apple-system, BlinkMacSystemFont, sans-serif; background-color: rgba(127, 127, 127, 0.1);\">Start by joining the&nbsp;</span>   **books** <span style=\"font-family: -apple-system, BlinkMacSystemFont, sans-serif; background-color: rgba(127, 127, 127, 0.1);\">and&nbsp;</span>   **book\\_tags**   <span style=\"font-family: -apple-system, BlinkMacSystemFont, sans-serif; background-color: rgba(127, 127, 127, 0.1);\">&nbsp;tables ON the books.best_book_id and book_tags.goodreads_book_id.&nbsp;&nbsp;<br></span>    We want to find the _most popular_ tag id, so think about ordering in a way that will display the most popular tag id.\n",
                "> \n",
                "> <span style=\"font-family: -apple-system, BlinkMacSystemFont, sans-serif; background-color: rgba(127, 127, 127, 0.1);\"><i>Minimum Desired Output:</i> The tag id for the most popular tag used for the most tagged book.&nbsp;</span>  \n",
                "> \n",
                "> <span style=\"font-family: -apple-system, BlinkMacSystemFont, sans-serif; background-color: rgba(127, 127, 127, 0.1);\"><b>Tag Id:&nbsp;&nbsp;</b></span>    **30574**\n",
                "\n",
                "<span style=\"font-family: -apple-system, BlinkMacSystemFont, sans-serif; background-color: rgba(127, 127, 127, 0.1);\"><b>Part C: </b>What is this particular tag?</span>\n",
                "\n",
                "> You may return this answer with a simple query.\n",
                "\n",
                "> <span style=\"font-family: -apple-system, BlinkMacSystemFont, sans-serif; background-color: rgba(127, 127, 127, 0.1);\"><i>Minimum Desired Output:</i>&nbsp;The tag name for the most popular tag used for the most tagged book.&nbsp;</span>  \n",
                "> \n",
                "> <span style=\"font-family: -apple-system, BlinkMacSystemFont, sans-serif; background-color: rgba(127, 127, 127, 0.1);\"><b>Tag Name:&nbsp;&nbsp;</b></span>  **'to-read'**"
            ],
            "metadata": {
                "azdata_cell_guid": "a685e9cc-2ae2-40e8-8cc1-022c8064d66d"
            },
            "attachments": {}
        },
        {
            "cell_type": "code",
            "source": [
                "-- Code Here:\r\n",
                "SELECT TOP 5\r\n",
                "SUM (count) 'tag_count', b.best_book_id, title\r\n",
                "FROM books AS b \r\n",
                "LEFT JOIN book_tags AS bt \r\n",
                "ON b.best_book_id = bt.goodreads_book_id\r\n",
                "GROUP BY b.best_book_id, title\r\n",
                "ORDER BY tag_count DESC;\r\n",
                "\r\n",
                "SELECT \r\n",
                "COUNT (tag_id) 'Number of tags'\r\n",
                "FROM book_tags \r\n",
                "WHERE goodreads_book_id = 3;\r\n",
                "\r\n",
                "SELECT TOP 5 *\r\n",
                "FROM tags\r\n",
                "WHERE tag_id = 30574;"
            ],
            "metadata": {
                "azdata_cell_guid": "de3ac253-6b47-4740-8c6e-5f9d1b0ce36b",
                "language": "sql"
            },
            "outputs": [
                {
                    "output_type": "display_data",
                    "data": {
                        "text/html": "Warning: Null value is eliminated by an aggregate or other SET operation."
                    },
                    "metadata": {}
                },
                {
                    "output_type": "display_data",
                    "data": {
                        "text/html": "(5 rows affected)"
                    },
                    "metadata": {}
                },
                {
                    "output_type": "display_data",
                    "data": {
                        "text/html": "(1 row affected)"
                    },
                    "metadata": {}
                },
                {
                    "output_type": "display_data",
                    "data": {
                        "text/html": "(1 row affected)"
                    },
                    "metadata": {}
                },
                {
                    "output_type": "display_data",
                    "data": {
                        "text/html": "Total execution time: 00:00:02.094"
                    },
                    "metadata": {}
                },
                {
                    "output_type": "execute_result",
                    "metadata": {},
                    "execution_count": 11,
                    "data": {
                        "application/vnd.dataresource+json": {
                            "schema": {
                                "fields": [
                                    {
                                        "name": "tag_count"
                                    },
                                    {
                                        "name": "best_book_id"
                                    },
                                    {
                                        "name": "title"
                                    }
                                ]
                            },
                            "data": [
                                {
                                    "0": "786374",
                                    "1": "3",
                                    "2": "Harry Potter and the Sorcerer's Stone (Harry Potter, #1)"
                                },
                                {
                                    "0": "679219",
                                    "1": "2429135",
                                    "2": "The Girl with the Dragon Tattoo (Millennium, #1)"
                                },
                                {
                                    "0": "675971",
                                    "1": "865",
                                    "2": "The Alchemist"
                                },
                                {
                                    "0": "600025",
                                    "1": "18143977",
                                    "2": "All the Light We Cannot See"
                                },
                                {
                                    "0": "597465",
                                    "1": "24280",
                                    "2": "Les Misérables"
                                }
                            ]
                        },
                        "text/html": [
                            "<table>",
                            "<tr><th>tag_count</th><th>best_book_id</th><th>title</th></tr>",
                            "<tr><td>786374</td><td>3</td><td>Harry Potter and the Sorcerer's Stone (Harry Potter, #1)</td></tr>",
                            "<tr><td>679219</td><td>2429135</td><td>The Girl with the Dragon Tattoo (Millennium, #1)</td></tr>",
                            "<tr><td>675971</td><td>865</td><td>The Alchemist</td></tr>",
                            "<tr><td>600025</td><td>18143977</td><td>All the Light We Cannot See</td></tr>",
                            "<tr><td>597465</td><td>24280</td><td>Les Misérables</td></tr>",
                            "</table>"
                        ]
                    }
                },
                {
                    "output_type": "execute_result",
                    "metadata": {},
                    "execution_count": 11,
                    "data": {
                        "application/vnd.dataresource+json": {
                            "schema": {
                                "fields": [
                                    {
                                        "name": "Number of tags"
                                    }
                                ]
                            },
                            "data": [
                                {
                                    "0": "100"
                                }
                            ]
                        },
                        "text/html": [
                            "<table>",
                            "<tr><th>Number of tags</th></tr>",
                            "<tr><td>100</td></tr>",
                            "</table>"
                        ]
                    }
                },
                {
                    "output_type": "execute_result",
                    "metadata": {},
                    "execution_count": 11,
                    "data": {
                        "application/vnd.dataresource+json": {
                            "schema": {
                                "fields": [
                                    {
                                        "name": "tag_id"
                                    },
                                    {
                                        "name": "tag_name"
                                    }
                                ]
                            },
                            "data": [
                                {
                                    "0": "30574",
                                    "1": "to-read"
                                }
                            ]
                        },
                        "text/html": [
                            "<table>",
                            "<tr><th>tag_id</th><th>tag_name</th></tr>",
                            "<tr><td>30574</td><td>to-read</td></tr>",
                            "</table>"
                        ]
                    }
                }
            ],
            "execution_count": 11
        },
        {
            "cell_type": "markdown",
            "source": [
                "## **QUESTION 6:** Find a book based on a tag of your choice using joins.\n",
                "\n",
                "Some suggestions: any hobbies you like? baking, drawing, etc. how about favorite holidays, subjects, animals, etc?\n",
                "\n",
                "**Part A:** Explore the tags table for a tag of your choice.  Suggested ideas, try searching for one of your hobbies, a favorite time of year, favorite animal, etc.  Start by querying the tag table for your chosen tag.  (_Hint:_ in order to make sure you find all combinations of your tags, use the wildcard).  If your query returns more than one result, pick your favorite.\n",
                "\n",
                "> > _Here is an example.  Alyce wanted to search for halloween books.  She used the wildcard, '%halloween%' and 8 different combinations were found.  Alyce selected '**halloween-storytime**', with a tag id of 13877._\n",
                "\n",
                "> _Minimum Desired Output:_ <span style=\"font-family: -apple-system, BlinkMacSystemFont, sans-serif; background-color: rgba(127, 127, 127, 0.1);\">tag name and tag id</span>\n",
                "\n",
                "> **Your Tag and Tag Id: Crafts & 8433**\n",
                "\n",
                "**Part B:** Now that you have the **tag id**, find the title that was tagged the most with this tag by joining the books and books\\_tags tables.\n",
                "\n",
                "> > _Alyce joined the book table with the tags table and discovered that <u>The Little Old Lady Who Was Not Afraid of Anything</u> was tagged as '**halloween-storytime**' the most._\n",
                "\n",
                "> _Minimum Desired Output:_ <span style=\"background-color: rgba(127, 127, 127, 0.1); font-family: -apple-system, BlinkMacSystemFont, sans-serif;\">title and tag count</span>\n",
                "\n",
                "> **Your Title and Number of times the tag was used:** \n",
                "> \n",
                "> **On Writing: A Memoir of the Craft, tagged with 8433 was used 65 times**"
            ],
            "metadata": {
                "azdata_cell_guid": "df783e7e-3aff-4e63-9edb-f2e729c7d1c8"
            },
            "attachments": {}
        },
        {
            "cell_type": "code",
            "source": [
                "-- Code Here:\r\n",
                "SELECT TOP 5 bt.goodreads_book_id, bt.tag_id, t.tag_name\r\n",
                "FROM book_tags as bt \r\n",
                "LEFT JOIN tags AS t \r\n",
                "ON bt.tag_id = t.tag_id\r\n",
                "WHERE tag_name = 'craft'\r\n",
                "ORDER BY count DESC;\r\n",
                "\r\n",
                "--Title that was tagged the most as 'craft, 8433'\r\n",
                "SELECT TOP 5\r\n",
                "SUM(bt.count) AS tag_count, title\r\n",
                "FROM books AS b\r\n",
                "LEFT JOIN book_tags AS bt\r\n",
                "ON b.best_book_id = bt.goodreads_book_id\r\n",
                "WHERE tag_id = 8433\r\n",
                "GROUP BY title\r\n",
                "ORDER BY tag_count DESC;"
            ],
            "metadata": {
                "azdata_cell_guid": "c4b0b67c-7cfa-4f52-be97-ffe5cc28ed54",
                "tags": [],
                "language": "sql"
            },
            "outputs": [
                {
                    "output_type": "display_data",
                    "data": {
                        "text/html": "(5 rows affected)"
                    },
                    "metadata": {}
                },
                {
                    "output_type": "display_data",
                    "data": {
                        "text/html": "(5 rows affected)"
                    },
                    "metadata": {}
                },
                {
                    "output_type": "display_data",
                    "data": {
                        "text/html": "Total execution time: 00:00:00.212"
                    },
                    "metadata": {}
                },
                {
                    "output_type": "execute_result",
                    "metadata": {},
                    "execution_count": 12,
                    "data": {
                        "application/vnd.dataresource+json": {
                            "schema": {
                                "fields": [
                                    {
                                        "name": "goodreads_book_id"
                                    },
                                    {
                                        "name": "tag_id"
                                    },
                                    {
                                        "name": "tag_name"
                                    }
                                ]
                            },
                            "data": [
                                {
                                    "0": "10569",
                                    "1": "8433",
                                    "2": "craft"
                                },
                                {
                                    "0": "12543",
                                    "1": "8433",
                                    "2": "craft"
                                },
                                {
                                    "0": "33514",
                                    "1": "8433",
                                    "2": "craft"
                                },
                                {
                                    "0": "44905",
                                    "1": "8433",
                                    "2": "craft"
                                },
                                {
                                    "0": "1319",
                                    "1": "8433",
                                    "2": "craft"
                                }
                            ]
                        },
                        "text/html": [
                            "<table>",
                            "<tr><th>goodreads_book_id</th><th>tag_id</th><th>tag_name</th></tr>",
                            "<tr><td>10569</td><td>8433</td><td>craft</td></tr>",
                            "<tr><td>12543</td><td>8433</td><td>craft</td></tr>",
                            "<tr><td>33514</td><td>8433</td><td>craft</td></tr>",
                            "<tr><td>44905</td><td>8433</td><td>craft</td></tr>",
                            "<tr><td>1319</td><td>8433</td><td>craft</td></tr>",
                            "</table>"
                        ]
                    }
                },
                {
                    "output_type": "execute_result",
                    "metadata": {},
                    "execution_count": 12,
                    "data": {
                        "application/vnd.dataresource+json": {
                            "schema": {
                                "fields": [
                                    {
                                        "name": "tag_count"
                                    },
                                    {
                                        "name": "title"
                                    }
                                ]
                            },
                            "data": [
                                {
                                    "0": "65",
                                    "1": "On Writing: A Memoir of the Craft"
                                },
                                {
                                    "0": "46",
                                    "1": "Bird by Bird: Some Instructions on Writing and Life"
                                },
                                {
                                    "0": "29",
                                    "1": "The Elements of Style"
                                },
                                {
                                    "0": "22",
                                    "1": "Writing Down the Bones: Freeing the Writer Within"
                                },
                                {
                                    "0": "18",
                                    "1": "Big Magic: Creative Living Beyond Fear"
                                }
                            ]
                        },
                        "text/html": [
                            "<table>",
                            "<tr><th>tag_count</th><th>title</th></tr>",
                            "<tr><td>65</td><td>On Writing: A Memoir of the Craft</td></tr>",
                            "<tr><td>46</td><td>Bird by Bird: Some Instructions on Writing and Life</td></tr>",
                            "<tr><td>29</td><td>The Elements of Style</td></tr>",
                            "<tr><td>22</td><td>Writing Down the Bones: Freeing the Writer Within</td></tr>",
                            "<tr><td>18</td><td>Big Magic: Creative Living Beyond Fear</td></tr>",
                            "</table>"
                        ]
                    }
                }
            ],
            "execution_count": 12
        },
        {
            "cell_type": "markdown",
            "source": [
                "## **QUESTION 7:** What are the top 10 most popular book titles on the 'to read' list?\n",
                "\n",
                "**Part A:**  Explore how the **to\\_read** and **books** tables are organized, and then join them.  What will you use as a key?\n",
                "\n",
                "> Your Answer: book\\_id\n",
                "\n",
                "**Part B:** Organize your newly joined table in a way that groups popularity based on the title based on users.\n",
                "\n",
                "> _Hint:_ Suggest using an alias for the aggregation you will need to run on the **user\\_id**\n",
                "\n",
                "> _Minimum Desired Output:_ title and aliased column"
            ],
            "metadata": {
                "azdata_cell_guid": "4e5349b7-24f6-481a-9d88-bb4f86abc624"
            },
            "attachments": {}
        },
        {
            "cell_type": "code",
            "source": [
                "-- Code Here:\r\n",
                "\r\n",
                "SELECT TOP 15 \r\n",
                "COUNT (tr.book_id) 'popular book count', tr.book_id, title\r\n",
                "FROM to_read AS tr\r\n",
                "LEFT JOIN books AS b \r\n",
                "ON tr.book_id = b.book_id\r\n",
                "WHERE b.title IS NOT NULL\r\n",
                "GROUP BY tr.book_id, b.title\r\n",
                "ORDER BY [most popular book count] DESC;"
            ],
            "metadata": {
                "azdata_cell_guid": "8af25df1-ce61-4152-8198-0b53c17642d0",
                "language": "sql"
            },
            "outputs": [
                {
                    "output_type": "error",
                    "evalue": "Msg 207, Level 16, State 1, Line 10\r\nInvalid column name 'most popular book count'.",
                    "ename": "",
                    "traceback": []
                },
                {
                    "output_type": "display_data",
                    "data": {
                        "text/html": "Total execution time: 00:00:00.209"
                    },
                    "metadata": {}
                }
            ],
            "execution_count": 13
        },
        {
            "cell_type": "markdown",
            "source": [
                "## **QUESTION 8:** Largest 'To Read' Lists\n",
                "\n",
                "**Part A:**  Create a query that returns a table that contains the top 10 users with the most number of titles on their 'to read' list.    Group all the entries by user\\_id.  \n",
                "\n",
                "> _Hint:_ You might want an alias for the titles.\n",
                "> \n",
                "> _Minimum Desired Output:_  user\\_id and your aliased column of titles.\n",
                "\n",
                "**Part B:**  The longest list length is 15 titles total, and is shared by 4 different users.  Select one of the uses and print out their entire '**to read**' list."
            ],
            "metadata": {
                "azdata_cell_guid": "0b0090b0-2b28-44c6-8bb6-06b4c03c3ff1"
            },
            "attachments": {}
        },
        {
            "cell_type": "code",
            "source": [
                "-- Code Here:\r\n",
                "\r\n",
                "SELECT TOP 10\r\n",
                "COUNT (user_id) as \"Number of books in the to read list\", user_id\r\n",
                "FROM books AS b\r\n",
                "LEFT JOIN to_read AS tr\r\n",
                "ON tr.book_id = b.book_id\r\n",
                "GROUP BY user_id\r\n",
                "ORDER BY [Number of books in the to read list] DESC;\r\n",
                "\r\n",
                "SELECT title AS \"User To Read List\"\r\n",
                "FROM to_read AS tr \r\n",
                "LEFT JOIN books as b \r\n",
                "ON tr.book_id = b.book_id\r\n",
                "WHERE user_id = 14771 AND title IS NOT NULL;"
            ],
            "metadata": {
                "azdata_cell_guid": "c6c815f8-890d-4163-be63-3d300e320597",
                "tags": [],
                "language": "sql"
            },
            "outputs": [
                {
                    "output_type": "display_data",
                    "data": {
                        "text/html": "Warning: Null value is eliminated by an aggregate or other SET operation."
                    },
                    "metadata": {}
                },
                {
                    "output_type": "display_data",
                    "data": {
                        "text/html": "(10 rows affected)"
                    },
                    "metadata": {}
                },
                {
                    "output_type": "display_data",
                    "data": {
                        "text/html": "(15 rows affected)"
                    },
                    "metadata": {}
                },
                {
                    "output_type": "display_data",
                    "data": {
                        "text/html": "Total execution time: 00:00:00.214"
                    },
                    "metadata": {}
                },
                {
                    "output_type": "execute_result",
                    "metadata": {},
                    "execution_count": 16,
                    "data": {
                        "application/vnd.dataresource+json": {
                            "schema": {
                                "fields": [
                                    {
                                        "name": "Number of books in the to read list"
                                    },
                                    {
                                        "name": "user_id"
                                    }
                                ]
                            },
                            "data": [
                                {
                                    "0": "15",
                                    "1": "14771"
                                },
                                {
                                    "0": "15",
                                    "1": "12483"
                                },
                                {
                                    "0": "15",
                                    "1": "11932"
                                },
                                {
                                    "0": "15",
                                    "1": "38201"
                                },
                                {
                                    "0": "14",
                                    "1": "36923"
                                },
                                {
                                    "0": "14",
                                    "1": "41523"
                                },
                                {
                                    "0": "14",
                                    "1": "27933"
                                },
                                {
                                    "0": "14",
                                    "1": "37359"
                                },
                                {
                                    "0": "13",
                                    "1": "25734"
                                },
                                {
                                    "0": "13",
                                    "1": "51137"
                                }
                            ]
                        },
                        "text/html": [
                            "<table>",
                            "<tr><th>Number of books in the to read list</th><th>user_id</th></tr>",
                            "<tr><td>15</td><td>14771</td></tr>",
                            "<tr><td>15</td><td>12483</td></tr>",
                            "<tr><td>15</td><td>11932</td></tr>",
                            "<tr><td>15</td><td>38201</td></tr>",
                            "<tr><td>14</td><td>36923</td></tr>",
                            "<tr><td>14</td><td>41523</td></tr>",
                            "<tr><td>14</td><td>27933</td></tr>",
                            "<tr><td>14</td><td>37359</td></tr>",
                            "<tr><td>13</td><td>25734</td></tr>",
                            "<tr><td>13</td><td>51137</td></tr>",
                            "</table>"
                        ]
                    }
                },
                {
                    "output_type": "execute_result",
                    "metadata": {},
                    "execution_count": 16,
                    "data": {
                        "application/vnd.dataresource+json": {
                            "schema": {
                                "fields": [
                                    {
                                        "name": "User To Read List"
                                    }
                                ]
                            },
                            "data": [
                                {
                                    "0": "The Fellowship of the Ring (The Lord of the Rings, #1)"
                                },
                                {
                                    "0": "Harry Potter and the Order of the Phoenix (Harry Potter, #5)"
                                },
                                {
                                    "0": "Harry Potter and the Goblet of Fire (Harry Potter, #4)"
                                },
                                {
                                    "0": "J.R.R. Tolkien 4-Book Boxed Set: The Hobbit and The Lord of the Rings"
                                },
                                {
                                    "0": "In a Sunburned Country"
                                },
                                {
                                    "0": "A Widow for One Year"
                                },
                                {
                                    "0": "Tropic of Cancer"
                                },
                                {
                                    "0": "The Iliad/The Odyssey"
                                },
                                {
                                    "0": "The Lost Continent: Travels in Small Town America"
                                },
                                {
                                    "0": "The New York Trilogy"
                                },
                                {
                                    "0": "The Lord of the Rings: The Art of The Fellowship of the Ring"
                                },
                                {
                                    "0": "The Known World"
                                },
                                {
                                    "0": "Ten Apples Up On Top!"
                                },
                                {
                                    "0": "Leviathan"
                                },
                                {
                                    "0": "What to Expect the First Year (What to Expect)"
                                }
                            ]
                        },
                        "text/html": [
                            "<table>",
                            "<tr><th>User To Read List</th></tr>",
                            "<tr><td>The Fellowship of the Ring (The Lord of the Rings, #1)</td></tr>",
                            "<tr><td>Harry Potter and the Order of the Phoenix (Harry Potter, #5)</td></tr>",
                            "<tr><td>Harry Potter and the Goblet of Fire (Harry Potter, #4)</td></tr>",
                            "<tr><td>J.R.R. Tolkien 4-Book Boxed Set: The Hobbit and The Lord of the Rings</td></tr>",
                            "<tr><td>In a Sunburned Country</td></tr>",
                            "<tr><td>A Widow for One Year</td></tr>",
                            "<tr><td>Tropic of Cancer</td></tr>",
                            "<tr><td>The Iliad/The Odyssey</td></tr>",
                            "<tr><td>The Lost Continent: Travels in Small Town America</td></tr>",
                            "<tr><td>The New York Trilogy</td></tr>",
                            "<tr><td>The Lord of the Rings: The Art of The Fellowship of the Ring</td></tr>",
                            "<tr><td>The Known World</td></tr>",
                            "<tr><td>Ten Apples Up On Top!</td></tr>",
                            "<tr><td>Leviathan</td></tr>",
                            "<tr><td>What to Expect the First Year (What to Expect)</td></tr>",
                            "</table>"
                        ]
                    }
                }
            ],
            "execution_count": 16
        }
    ]
}